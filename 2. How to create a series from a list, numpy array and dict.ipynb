{
 "cells": [
  {
   "cell_type": "code",
   "execution_count": 1,
   "id": "3545ea4c",
   "metadata": {},
   "outputs": [],
   "source": [
    "import pandas as pd\n",
    "import numpy as np"
   ]
  },
  {
   "cell_type": "markdown",
   "id": "f614bac3",
   "metadata": {},
   "source": [
    "### Pandas Series using List"
   ]
  },
  {
   "cell_type": "code",
   "execution_count": 2,
   "id": "bcbf2632",
   "metadata": {},
   "outputs": [
    {
     "data": {
      "text/plain": [
       "0    11\n",
       "1    22\n",
       "2    33\n",
       "3    44\n",
       "dtype: int64"
      ]
     },
     "execution_count": 2,
     "metadata": {},
     "output_type": "execute_result"
    }
   ],
   "source": [
    "pd.Series([11,22,33,44])"
   ]
  },
  {
   "cell_type": "markdown",
   "id": "dec898d6",
   "metadata": {},
   "source": [
    "### Pandas Series using numpy array"
   ]
  },
  {
   "cell_type": "markdown",
   "id": "a29aa18a",
   "metadata": {},
   "source": [
    "### Pandas Series using dict"
   ]
  },
  {
   "cell_type": "code",
   "execution_count": 5,
   "id": "29e0f662",
   "metadata": {},
   "outputs": [
    {
     "data": {
      "text/plain": [
       "a       [1, 2, 3, 4]\n",
       "b       [5, 6, 7, 8]\n",
       "c    [9, 10, 11, 12]\n",
       "dtype: object"
      ]
     },
     "execution_count": 5,
     "metadata": {},
     "output_type": "execute_result"
    }
   ],
   "source": [
    "d = {'a':[1,2,3,4],'b':[5,6,7,8],'c':[9,10,11,12]}\n",
    "y = pd.Series(d)\n",
    "y"
   ]
  }
 ],
 "metadata": {
  "kernelspec": {
   "display_name": "Python 3 (ipykernel)",
   "language": "python",
   "name": "python3"
  },
  "language_info": {
   "codemirror_mode": {
    "name": "ipython",
    "version": 3
   },
   "file_extension": ".py",
   "mimetype": "text/x-python",
   "name": "python",
   "nbconvert_exporter": "python",
   "pygments_lexer": "ipython3",
   "version": "3.10.7"
  }
 },
 "nbformat": 4,
 "nbformat_minor": 5
}
