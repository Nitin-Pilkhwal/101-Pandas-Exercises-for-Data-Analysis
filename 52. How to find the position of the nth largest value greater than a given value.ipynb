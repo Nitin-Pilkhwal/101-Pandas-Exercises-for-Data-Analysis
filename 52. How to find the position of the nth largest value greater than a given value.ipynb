{
 "cells": [
  {
   "cell_type": "code",
   "execution_count": 1,
   "id": "6c7437e3",
   "metadata": {},
   "outputs": [],
   "source": [
    "import pandas as pd\n",
    "import numpy as np"
   ]
  },
  {
   "cell_type": "markdown",
   "id": "00dfaf6b",
   "metadata": {},
   "source": [
    "# Parameters Given"
   ]
  },
  {
   "cell_type": "code",
   "execution_count": 6,
   "id": "525faf3a",
   "metadata": {},
   "outputs": [],
   "source": [
    "ser = pd.Series(np.random.randint(1, 100, 15))"
   ]
  },
  {
   "cell_type": "markdown",
   "id": "0e220048",
   "metadata": {},
   "source": [
    "# Solution"
   ]
  },
  {
   "cell_type": "code",
   "execution_count": 7,
   "id": "f0b3ca6d",
   "metadata": {},
   "outputs": [
    {
     "data": {
      "text/plain": [
       "0     98\n",
       "1     57\n",
       "2     44\n",
       "3     82\n",
       "4     32\n",
       "5     54\n",
       "6     98\n",
       "7     28\n",
       "8     61\n",
       "9     88\n",
       "10    33\n",
       "11    54\n",
       "12    21\n",
       "13    68\n",
       "14    99\n",
       "dtype: int32"
      ]
     },
     "execution_count": 7,
     "metadata": {},
     "output_type": "execute_result"
    }
   ],
   "source": [
    "ser"
   ]
  },
  {
   "cell_type": "code",
   "execution_count": 13,
   "id": "d4992059",
   "metadata": {},
   "outputs": [],
   "source": [
    "n=4\n",
    "value=55"
   ]
  },
  {
   "cell_type": "code",
   "execution_count": 18,
   "id": "0b5841b6",
   "metadata": {},
   "outputs": [
    {
     "data": {
      "text/plain": [
       "14    14\n",
       "13     6\n",
       "12     0\n",
       "11     9\n",
       "10     3\n",
       "9     13\n",
       "8      8\n",
       "7      1\n",
       "6     11\n",
       "5      5\n",
       "4      2\n",
       "3     10\n",
       "2      4\n",
       "1      7\n",
       "0     12\n",
       "dtype: int64"
      ]
     },
     "execution_count": 18,
     "metadata": {},
     "output_type": "execute_result"
    }
   ],
   "source": [
    "index = ser.argsort()[::-1]\n",
    "index"
   ]
  },
  {
   "cell_type": "code",
   "execution_count": 27,
   "id": "905c36ec",
   "metadata": {},
   "outputs": [
    {
     "data": {
      "text/plain": [
       "14    99\n",
       "6     98\n",
       "0     98\n",
       "9     88\n",
       "3     82\n",
       "13    68\n",
       "8     61\n",
       "1     57\n",
       "dtype: int32"
      ]
     },
     "execution_count": 27,
     "metadata": {},
     "output_type": "execute_result"
    }
   ],
   "source": [
    "filtered_values = ser[index][ser[index]>value]\n",
    "filtered_values"
   ]
  },
  {
   "cell_type": "code",
   "execution_count": 29,
   "id": "b401d68b",
   "metadata": {},
   "outputs": [
    {
     "name": "stdout",
     "output_type": "stream",
     "text": [
      "The index of the 4th largest value greater than 55 is 3\n"
     ]
    }
   ],
   "source": [
    "print(\"The index of the 4th largest value greater than 55 is\",np.where(ser == filtered_values[n-1])[0][0])"
   ]
  }
 ],
 "metadata": {
  "kernelspec": {
   "display_name": "Python 3 (ipykernel)",
   "language": "python",
   "name": "python3"
  },
  "language_info": {
   "codemirror_mode": {
    "name": "ipython",
    "version": 3
   },
   "file_extension": ".py",
   "mimetype": "text/x-python",
   "name": "python",
   "nbconvert_exporter": "python",
   "pygments_lexer": "ipython3",
   "version": "3.10.7"
  }
 },
 "nbformat": 4,
 "nbformat_minor": 5
}
