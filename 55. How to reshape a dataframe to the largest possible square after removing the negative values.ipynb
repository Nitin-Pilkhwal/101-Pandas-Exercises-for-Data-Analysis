{
 "cells": [
  {
   "cell_type": "code",
   "execution_count": 1,
   "id": "6994cf08",
   "metadata": {},
   "outputs": [],
   "source": [
    "import pandas as pd\n",
    "import numpy as np"
   ]
  },
  {
   "cell_type": "markdown",
   "id": "305f9eae",
   "metadata": {},
   "source": [
    "# Parameters Given"
   ]
  },
  {
   "cell_type": "code",
   "execution_count": 25,
   "id": "3fe3f75b",
   "metadata": {},
   "outputs": [],
   "source": [
    "df = pd.DataFrame(np.random.randint(-20, 50, 100).reshape(10,-1))"
   ]
  },
  {
   "cell_type": "code",
   "execution_count": 26,
   "id": "d07eee33",
   "metadata": {},
   "outputs": [
    {
     "data": {
      "text/html": [
       "<div>\n",
       "<style scoped>\n",
       "    .dataframe tbody tr th:only-of-type {\n",
       "        vertical-align: middle;\n",
       "    }\n",
       "\n",
       "    .dataframe tbody tr th {\n",
       "        vertical-align: top;\n",
       "    }\n",
       "\n",
       "    .dataframe thead th {\n",
       "        text-align: right;\n",
       "    }\n",
       "</style>\n",
       "<table border=\"1\" class=\"dataframe\">\n",
       "  <thead>\n",
       "    <tr style=\"text-align: right;\">\n",
       "      <th></th>\n",
       "      <th>0</th>\n",
       "      <th>1</th>\n",
       "      <th>2</th>\n",
       "      <th>3</th>\n",
       "      <th>4</th>\n",
       "      <th>5</th>\n",
       "      <th>6</th>\n",
       "      <th>7</th>\n",
       "      <th>8</th>\n",
       "      <th>9</th>\n",
       "    </tr>\n",
       "  </thead>\n",
       "  <tbody>\n",
       "    <tr>\n",
       "      <th>0</th>\n",
       "      <td>15</td>\n",
       "      <td>45</td>\n",
       "      <td>25</td>\n",
       "      <td>47</td>\n",
       "      <td>42</td>\n",
       "      <td>13</td>\n",
       "      <td>-9</td>\n",
       "      <td>19</td>\n",
       "      <td>8</td>\n",
       "      <td>17</td>\n",
       "    </tr>\n",
       "    <tr>\n",
       "      <th>1</th>\n",
       "      <td>22</td>\n",
       "      <td>19</td>\n",
       "      <td>-19</td>\n",
       "      <td>-18</td>\n",
       "      <td>9</td>\n",
       "      <td>33</td>\n",
       "      <td>-9</td>\n",
       "      <td>-12</td>\n",
       "      <td>38</td>\n",
       "      <td>28</td>\n",
       "    </tr>\n",
       "    <tr>\n",
       "      <th>2</th>\n",
       "      <td>4</td>\n",
       "      <td>-12</td>\n",
       "      <td>21</td>\n",
       "      <td>-3</td>\n",
       "      <td>14</td>\n",
       "      <td>42</td>\n",
       "      <td>5</td>\n",
       "      <td>38</td>\n",
       "      <td>41</td>\n",
       "      <td>-19</td>\n",
       "    </tr>\n",
       "    <tr>\n",
       "      <th>3</th>\n",
       "      <td>41</td>\n",
       "      <td>-13</td>\n",
       "      <td>-10</td>\n",
       "      <td>-12</td>\n",
       "      <td>2</td>\n",
       "      <td>-5</td>\n",
       "      <td>47</td>\n",
       "      <td>-7</td>\n",
       "      <td>-6</td>\n",
       "      <td>22</td>\n",
       "    </tr>\n",
       "    <tr>\n",
       "      <th>4</th>\n",
       "      <td>4</td>\n",
       "      <td>12</td>\n",
       "      <td>39</td>\n",
       "      <td>-14</td>\n",
       "      <td>1</td>\n",
       "      <td>8</td>\n",
       "      <td>-12</td>\n",
       "      <td>9</td>\n",
       "      <td>11</td>\n",
       "      <td>31</td>\n",
       "    </tr>\n",
       "    <tr>\n",
       "      <th>5</th>\n",
       "      <td>9</td>\n",
       "      <td>-10</td>\n",
       "      <td>24</td>\n",
       "      <td>9</td>\n",
       "      <td>-4</td>\n",
       "      <td>-8</td>\n",
       "      <td>-5</td>\n",
       "      <td>46</td>\n",
       "      <td>-13</td>\n",
       "      <td>31</td>\n",
       "    </tr>\n",
       "    <tr>\n",
       "      <th>6</th>\n",
       "      <td>19</td>\n",
       "      <td>-6</td>\n",
       "      <td>27</td>\n",
       "      <td>30</td>\n",
       "      <td>33</td>\n",
       "      <td>-15</td>\n",
       "      <td>-20</td>\n",
       "      <td>15</td>\n",
       "      <td>46</td>\n",
       "      <td>9</td>\n",
       "    </tr>\n",
       "    <tr>\n",
       "      <th>7</th>\n",
       "      <td>-16</td>\n",
       "      <td>48</td>\n",
       "      <td>15</td>\n",
       "      <td>26</td>\n",
       "      <td>14</td>\n",
       "      <td>5</td>\n",
       "      <td>14</td>\n",
       "      <td>40</td>\n",
       "      <td>-14</td>\n",
       "      <td>12</td>\n",
       "    </tr>\n",
       "    <tr>\n",
       "      <th>8</th>\n",
       "      <td>9</td>\n",
       "      <td>6</td>\n",
       "      <td>2</td>\n",
       "      <td>49</td>\n",
       "      <td>45</td>\n",
       "      <td>12</td>\n",
       "      <td>-9</td>\n",
       "      <td>49</td>\n",
       "      <td>29</td>\n",
       "      <td>-9</td>\n",
       "    </tr>\n",
       "    <tr>\n",
       "      <th>9</th>\n",
       "      <td>39</td>\n",
       "      <td>40</td>\n",
       "      <td>33</td>\n",
       "      <td>18</td>\n",
       "      <td>35</td>\n",
       "      <td>13</td>\n",
       "      <td>31</td>\n",
       "      <td>-17</td>\n",
       "      <td>-11</td>\n",
       "      <td>-10</td>\n",
       "    </tr>\n",
       "  </tbody>\n",
       "</table>\n",
       "</div>"
      ],
      "text/plain": [
       "    0   1   2   3   4   5   6   7   8   9\n",
       "0  15  45  25  47  42  13  -9  19   8  17\n",
       "1  22  19 -19 -18   9  33  -9 -12  38  28\n",
       "2   4 -12  21  -3  14  42   5  38  41 -19\n",
       "3  41 -13 -10 -12   2  -5  47  -7  -6  22\n",
       "4   4  12  39 -14   1   8 -12   9  11  31\n",
       "5   9 -10  24   9  -4  -8  -5  46 -13  31\n",
       "6  19  -6  27  30  33 -15 -20  15  46   9\n",
       "7 -16  48  15  26  14   5  14  40 -14  12\n",
       "8   9   6   2  49  45  12  -9  49  29  -9\n",
       "9  39  40  33  18  35  13  31 -17 -11 -10"
      ]
     },
     "execution_count": 26,
     "metadata": {},
     "output_type": "execute_result"
    }
   ],
   "source": [
    "df"
   ]
  },
  {
   "cell_type": "markdown",
   "id": "f6f619ef",
   "metadata": {},
   "source": [
    "# Solution"
   ]
  },
  {
   "cell_type": "code",
   "execution_count": 27,
   "id": "c80b29e0",
   "metadata": {},
   "outputs": [],
   "source": [
    "df=df[df>0].values.flatten()\n",
    "df=df[~np.isnan(df)]"
   ]
  },
  {
   "cell_type": "code",
   "execution_count": 30,
   "id": "a75e5452",
   "metadata": {},
   "outputs": [],
   "source": [
    "n = int(np.floor(df.shape[0]**.5))"
   ]
  },
  {
   "cell_type": "code",
   "execution_count": 32,
   "id": "8a1cece2",
   "metadata": {},
   "outputs": [],
   "source": [
    "top_indexes = np.argsort(df)[::-1]\n",
    "output = np.take(df, sorted(top_indexes[:n**2])).reshape(n, -1)"
   ]
  },
  {
   "cell_type": "code",
   "execution_count": 33,
   "id": "a39ea44e",
   "metadata": {},
   "outputs": [
    {
     "data": {
      "text/plain": [
       "array([[15., 45., 25., 47., 42., 13., 19.,  8.],\n",
       "       [17., 22., 19.,  9., 33., 38., 28., 21.],\n",
       "       [14., 42.,  5., 38., 41., 41., 47., 22.],\n",
       "       [12., 39.,  8.,  9., 11., 31.,  9., 24.],\n",
       "       [ 9., 46., 31., 19., 27., 30., 33., 15.],\n",
       "       [46.,  9., 48., 15., 26., 14.,  5., 14.],\n",
       "       [40., 12.,  9.,  6., 49., 45., 12., 49.],\n",
       "       [29., 39., 40., 33., 18., 35., 13., 31.]])"
      ]
     },
     "execution_count": 33,
     "metadata": {},
     "output_type": "execute_result"
    }
   ],
   "source": [
    "output"
   ]
  }
 ],
 "metadata": {
  "kernelspec": {
   "display_name": "Python 3 (ipykernel)",
   "language": "python",
   "name": "python3"
  },
  "language_info": {
   "codemirror_mode": {
    "name": "ipython",
    "version": 3
   },
   "file_extension": ".py",
   "mimetype": "text/x-python",
   "name": "python",
   "nbconvert_exporter": "python",
   "pygments_lexer": "ipython3",
   "version": "3.10.7"
  }
 },
 "nbformat": 4,
 "nbformat_minor": 5
}
