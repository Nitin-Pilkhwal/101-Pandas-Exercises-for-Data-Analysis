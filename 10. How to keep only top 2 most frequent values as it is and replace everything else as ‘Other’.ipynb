{
 "cells": [
  {
   "cell_type": "code",
   "execution_count": 1,
   "id": "a6510b21",
   "metadata": {},
   "outputs": [],
   "source": [
    "import pandas as pd\n",
    "import numpy as np"
   ]
  },
  {
   "cell_type": "markdown",
   "id": "28c6bb73",
   "metadata": {},
   "source": [
    "### Parameters Given"
   ]
  },
  {
   "cell_type": "code",
   "execution_count": 3,
   "id": "e9cf0507",
   "metadata": {},
   "outputs": [
    {
     "data": {
      "text/plain": [
       "0     3\n",
       "1     4\n",
       "2     2\n",
       "3     3\n",
       "4     1\n",
       "5     3\n",
       "6     3\n",
       "7     2\n",
       "8     4\n",
       "9     2\n",
       "10    1\n",
       "11    3\n",
       "dtype: int32"
      ]
     },
     "execution_count": 3,
     "metadata": {},
     "output_type": "execute_result"
    }
   ],
   "source": [
    "np.random.RandomState(100)\n",
    "ser = pd.Series(np.random.randint(1, 5, [12]))\n",
    "ser"
   ]
  },
  {
   "cell_type": "markdown",
   "id": "01a19806",
   "metadata": {},
   "source": [
    "### Solution"
   ]
  },
  {
   "cell_type": "code",
   "execution_count": 4,
   "id": "090a08e1",
   "metadata": {},
   "outputs": [
    {
     "data": {
      "text/plain": [
       "3    5\n",
       "2    3\n",
       "4    2\n",
       "1    2\n",
       "dtype: int64"
      ]
     },
     "execution_count": 4,
     "metadata": {},
     "output_type": "execute_result"
    }
   ],
   "source": [
    "ser.value_counts()"
   ]
  },
  {
   "cell_type": "code",
   "execution_count": 7,
   "id": "c43fe77a",
   "metadata": {},
   "outputs": [],
   "source": [
    "ser[~ser.isin(ser.value_counts().index[:2]) ]= 'other'"
   ]
  },
  {
   "cell_type": "code",
   "execution_count": 8,
   "id": "d42483a2",
   "metadata": {},
   "outputs": [
    {
     "data": {
      "text/plain": [
       "0         3\n",
       "1     other\n",
       "2         2\n",
       "3         3\n",
       "4     other\n",
       "5         3\n",
       "6         3\n",
       "7         2\n",
       "8     other\n",
       "9         2\n",
       "10    other\n",
       "11        3\n",
       "dtype: object"
      ]
     },
     "execution_count": 8,
     "metadata": {},
     "output_type": "execute_result"
    }
   ],
   "source": [
    "ser"
   ]
  },
  {
   "cell_type": "code",
   "execution_count": null,
   "id": "cb4dc4b4",
   "metadata": {},
   "outputs": [],
   "source": [
    "ser[~ser.isin(ser)]"
   ]
  }
 ],
 "metadata": {
  "kernelspec": {
   "display_name": "Python 3 (ipykernel)",
   "language": "python",
   "name": "python3"
  },
  "language_info": {
   "codemirror_mode": {
    "name": "ipython",
    "version": 3
   },
   "file_extension": ".py",
   "mimetype": "text/x-python",
   "name": "python",
   "nbconvert_exporter": "python",
   "pygments_lexer": "ipython3",
   "version": "3.10.7"
  }
 },
 "nbformat": 4,
 "nbformat_minor": 5
}
