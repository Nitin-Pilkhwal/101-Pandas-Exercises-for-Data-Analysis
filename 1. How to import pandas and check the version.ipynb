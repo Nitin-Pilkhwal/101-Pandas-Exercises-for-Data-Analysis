{
 "cells": [
  {
   "cell_type": "code",
   "execution_count": 1,
   "id": "672a65a3",
   "metadata": {},
   "outputs": [],
   "source": [
    "import pandas as pd"
   ]
  },
  {
   "cell_type": "code",
   "execution_count": 3,
   "id": "b28972b3",
   "metadata": {},
   "outputs": [
    {
     "data": {
      "text/plain": [
       "'1.5.0'"
      ]
     },
     "execution_count": 3,
     "metadata": {},
     "output_type": "execute_result"
    }
   ],
   "source": [
    "pd.__version__"
   ]
  },
  {
   "cell_type": "code",
   "execution_count": 6,
   "id": "8312a2fd",
   "metadata": {},
   "outputs": [
    {
     "name": "stdout",
     "output_type": "stream",
     "text": [
      "{\n",
      "  \"system\": {\n",
      "    \"commit\": \"87cfe4e38bafe7300a6003a1d18bd80f3f77c763\",\n",
      "    \"python\": \"3.10.7.final.0\",\n",
      "    \"python-bits\": 64,\n",
      "    \"OS\": \"Windows\",\n",
      "    \"OS-release\": \"10\",\n",
      "    \"Version\": \"10.0.22621\",\n",
      "    \"machine\": \"AMD64\",\n",
      "    \"processor\": \"Intel64 Family 6 Model 140 Stepping 2, GenuineIntel\",\n",
      "    \"byteorder\": \"little\",\n",
      "    \"LC_ALL\": null,\n",
      "    \"LANG\": null,\n",
      "    \"LOCALE\": {\n",
      "      \"language-code\": \"English_India\",\n",
      "      \"encoding\": \"1252\"\n",
      "    }\n",
      "  },\n",
      "  \"dependencies\": {\n",
      "    \"pandas\": \"1.5.0\",\n",
      "    \"numpy\": \"1.23.3\",\n",
      "    \"pytz\": \"2022.7.1\",\n",
      "    \"dateutil\": \"2.8.2\",\n",
      "    \"setuptools\": \"63.2.0\",\n",
      "    \"pip\": \"22.3.1\",\n",
      "    \"Cython\": \"0.29.33\",\n",
      "    \"pytest\": null,\n",
      "    \"hypothesis\": null,\n",
      "    \"sphinx\": null,\n",
      "    \"blosc\": null,\n",
      "    \"feather\": null,\n",
      "    \"xlsxwriter\": null,\n",
      "    \"lxml.etree\": \"4.9.1\",\n",
      "    \"html5lib\": \"1.1\",\n",
      "    \"pymysql\": null,\n",
      "    \"psycopg2\": null,\n",
      "    \"jinja2\": \"3.1.2\",\n",
      "    \"IPython\": \"8.5.0\",\n",
      "    \"pandas_datareader\": null,\n",
      "    \"bs4\": \"4.11.1\",\n",
      "    \"bottleneck\": null,\n",
      "    \"brotli\": null,\n",
      "    \"fastparquet\": \"2022.11.0\",\n",
      "    \"fsspec\": \"2022.11.0\",\n",
      "    \"gcsfs\": null,\n",
      "    \"matplotlib\": \"3.6.2\",\n",
      "    \"numba\": null,\n",
      "    \"numexpr\": null,\n",
      "    \"odfpy\": null,\n",
      "    \"openpyxl\": \"3.0.10\",\n",
      "    \"pandas_gbq\": null,\n",
      "    \"pyarrow\": \"10.0.1\",\n",
      "    \"pyreadstat\": null,\n",
      "    \"pyxlsb\": null,\n",
      "    \"s3fs\": null,\n",
      "    \"scipy\": \"1.9.3\",\n",
      "    \"snappy\": null,\n",
      "    \"sqlalchemy\": null,\n",
      "    \"tables\": null,\n",
      "    \"tabulate\": null,\n",
      "    \"xarray\": null,\n",
      "    \"xlrd\": \"2.0.1\",\n",
      "    \"xlwt\": null,\n",
      "    \"zstandard\": null,\n",
      "    \"tzdata\": \"2022.6\"\n",
      "  }\n",
      "}None\n"
     ]
    }
   ],
   "source": [
    "print(pd.show_versions(as_json = True))"
   ]
  }
 ],
 "metadata": {
  "kernelspec": {
   "display_name": "Python 3 (ipykernel)",
   "language": "python",
   "name": "python3"
  },
  "language_info": {
   "codemirror_mode": {
    "name": "ipython",
    "version": 3
   },
   "file_extension": ".py",
   "mimetype": "text/x-python",
   "name": "python",
   "nbconvert_exporter": "python",
   "pygments_lexer": "ipython3",
   "version": "3.10.7"
  }
 },
 "nbformat": 4,
 "nbformat_minor": 5
}
