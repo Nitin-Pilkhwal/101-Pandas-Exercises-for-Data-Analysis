{
 "cells": [
  {
   "cell_type": "code",
   "execution_count": 1,
   "id": "0dbe6552",
   "metadata": {},
   "outputs": [],
   "source": [
    "import pandas as pd\n",
    "import numpy as np"
   ]
  },
  {
   "cell_type": "markdown",
   "id": "b96dce6e",
   "metadata": {},
   "source": [
    "### Parameters Given"
   ]
  },
  {
   "cell_type": "code",
   "execution_count": 4,
   "id": "6ead8e2a",
   "metadata": {},
   "outputs": [
    {
     "data": {
      "text/plain": [
       "0     b\n",
       "1     f\n",
       "2     g\n",
       "3     h\n",
       "4     g\n",
       "5     d\n",
       "6     e\n",
       "7     b\n",
       "8     c\n",
       "9     a\n",
       "10    f\n",
       "11    g\n",
       "12    e\n",
       "13    g\n",
       "14    f\n",
       "15    d\n",
       "16    g\n",
       "17    d\n",
       "18    d\n",
       "19    b\n",
       "dtype: object"
      ]
     },
     "execution_count": 4,
     "metadata": {},
     "output_type": "execute_result"
    }
   ],
   "source": [
    "ser = pd.Series(np.take(list('abcdefgh'), np.random.randint(8, size=20)))\n",
    "ser"
   ]
  },
  {
   "cell_type": "markdown",
   "id": "de4e7796",
   "metadata": {},
   "source": [
    "### Solution"
   ]
  },
  {
   "cell_type": "code",
   "execution_count": 13,
   "id": "cac60384",
   "metadata": {},
   "outputs": [
    {
     "data": {
      "text/plain": [
       "g    5\n",
       "d    4\n",
       "b    3\n",
       "f    3\n",
       "e    2\n",
       "h    1\n",
       "c    1\n",
       "a    1\n",
       "dtype: int64"
      ]
     },
     "execution_count": 13,
     "metadata": {},
     "output_type": "execute_result"
    }
   ],
   "source": [
    "ser.value_counts()"
   ]
  }
 ],
 "metadata": {
  "kernelspec": {
   "display_name": "Python 3 (ipykernel)",
   "language": "python",
   "name": "python3"
  },
  "language_info": {
   "codemirror_mode": {
    "name": "ipython",
    "version": 3
   },
   "file_extension": ".py",
   "mimetype": "text/x-python",
   "name": "python",
   "nbconvert_exporter": "python",
   "pygments_lexer": "ipython3",
   "version": "3.10.7"
  }
 },
 "nbformat": 4,
 "nbformat_minor": 5
}
