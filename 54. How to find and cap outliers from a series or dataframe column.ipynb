{
 "cells": [
  {
   "cell_type": "code",
   "execution_count": 1,
   "id": "262afcaf",
   "metadata": {},
   "outputs": [],
   "source": [
    "import pandas as pd\n",
    "import numpy as np"
   ]
  },
  {
   "cell_type": "markdown",
   "id": "38e5246f",
   "metadata": {},
   "source": [
    "# Parameters Given"
   ]
  },
  {
   "cell_type": "code",
   "execution_count": 2,
   "id": "7cfb4acb",
   "metadata": {},
   "outputs": [
    {
     "data": {
      "text/plain": [
       "0       0.010000\n",
       "1       0.013738\n",
       "2       0.018874\n",
       "3       0.025929\n",
       "4       0.035622\n",
       "5       0.048939\n",
       "6       0.067234\n",
       "7       0.092367\n",
       "8       0.126896\n",
       "9       0.174333\n",
       "10      0.239503\n",
       "11      0.329034\n",
       "12      0.452035\n",
       "13      0.621017\n",
       "14      0.853168\n",
       "15      1.172102\n",
       "16      1.610262\n",
       "17      2.212216\n",
       "18      3.039195\n",
       "19      4.175319\n",
       "20      5.736153\n",
       "21      7.880463\n",
       "22     10.826367\n",
       "23     14.873521\n",
       "24     20.433597\n",
       "25     28.072162\n",
       "26     38.566204\n",
       "27     52.983169\n",
       "28     72.789538\n",
       "29    100.000000\n",
       "dtype: float64"
      ]
     },
     "execution_count": 2,
     "metadata": {},
     "output_type": "execute_result"
    }
   ],
   "source": [
    "ser = pd.Series(np.logspace(-2, 2, 30))\n",
    "ser"
   ]
  },
  {
   "cell_type": "markdown",
   "id": "524dd595",
   "metadata": {},
   "source": [
    "# Solution"
   ]
  },
  {
   "cell_type": "code",
   "execution_count": 3,
   "id": "967ab892",
   "metadata": {},
   "outputs": [],
   "source": [
    "def find_outliers(ser,low,high):\n",
    "    l,h = ser.quantile([low,high])\n",
    "    print(low,\"%ile\",l,\"and\",high,\"%ile\",h)\n",
    "    ser[ser<l]=l\n",
    "    ser[ser>h] = h"
   ]
  },
  {
   "cell_type": "code",
   "execution_count": 4,
   "id": "c95df287",
   "metadata": {},
   "outputs": [
    {
     "name": "stdout",
     "output_type": "stream",
     "text": [
      "0.05 %ile 0.016049294076965887 and 0.95 %ile 63.87667222018393\n"
     ]
    }
   ],
   "source": [
    "find_outliers(ser,0.05,0.95)"
   ]
  },
  {
   "cell_type": "code",
   "execution_count": 5,
   "id": "bca13c22",
   "metadata": {},
   "outputs": [
    {
     "data": {
      "text/plain": [
       "0      0.016049\n",
       "1      0.016049\n",
       "2      0.018874\n",
       "3      0.025929\n",
       "4      0.035622\n",
       "5      0.048939\n",
       "6      0.067234\n",
       "7      0.092367\n",
       "8      0.126896\n",
       "9      0.174333\n",
       "10     0.239503\n",
       "11     0.329034\n",
       "12     0.452035\n",
       "13     0.621017\n",
       "14     0.853168\n",
       "15     1.172102\n",
       "16     1.610262\n",
       "17     2.212216\n",
       "18     3.039195\n",
       "19     4.175319\n",
       "20     5.736153\n",
       "21     7.880463\n",
       "22    10.826367\n",
       "23    14.873521\n",
       "24    20.433597\n",
       "25    28.072162\n",
       "26    38.566204\n",
       "27    52.983169\n",
       "28    63.876672\n",
       "29    63.876672\n",
       "dtype: float64"
      ]
     },
     "execution_count": 5,
     "metadata": {},
     "output_type": "execute_result"
    }
   ],
   "source": [
    "ser"
   ]
  },
  {
   "cell_type": "code",
   "execution_count": null,
   "id": "88112595",
   "metadata": {},
   "outputs": [],
   "source": []
  }
 ],
 "metadata": {
  "kernelspec": {
   "display_name": "Python 3 (ipykernel)",
   "language": "python",
   "name": "python3"
  },
  "language_info": {
   "codemirror_mode": {
    "name": "ipython",
    "version": 3
   },
   "file_extension": ".py",
   "mimetype": "text/x-python",
   "name": "python",
   "nbconvert_exporter": "python",
   "pygments_lexer": "ipython3",
   "version": "3.10.7"
  }
 },
 "nbformat": 4,
 "nbformat_minor": 5
}
