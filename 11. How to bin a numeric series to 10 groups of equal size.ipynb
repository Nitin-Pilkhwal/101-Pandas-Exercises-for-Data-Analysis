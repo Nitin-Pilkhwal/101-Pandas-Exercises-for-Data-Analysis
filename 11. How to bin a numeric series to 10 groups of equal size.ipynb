{
 "cells": [
  {
   "cell_type": "code",
   "execution_count": 1,
   "id": "4ad1fadd",
   "metadata": {},
   "outputs": [],
   "source": [
    "import pandas as pd\n",
    "import numpy as np"
   ]
  },
  {
   "cell_type": "markdown",
   "id": "b9486861",
   "metadata": {},
   "source": [
    "### Parameters Given"
   ]
  },
  {
   "cell_type": "code",
   "execution_count": 6,
   "id": "70fc3980",
   "metadata": {},
   "outputs": [
    {
     "data": {
      "text/plain": [
       "0     0.537090\n",
       "1     0.955521\n",
       "2     0.491923\n",
       "3     0.967570\n",
       "4     0.163986\n",
       "5     0.654346\n",
       "6     0.167989\n",
       "7     0.736319\n",
       "8     0.487013\n",
       "9     0.465885\n",
       "10    0.349446\n",
       "11    0.168012\n",
       "12    0.925091\n",
       "13    0.851681\n",
       "14    0.403702\n",
       "15    0.431320\n",
       "16    0.091930\n",
       "17    0.714315\n",
       "18    0.688139\n",
       "19    0.806068\n",
       "dtype: float64"
      ]
     },
     "execution_count": 6,
     "metadata": {},
     "output_type": "execute_result"
    }
   ],
   "source": [
    "ser = pd.Series(np.random.random(20))\n",
    "ser"
   ]
  },
  {
   "cell_type": "markdown",
   "id": "c0758c2f",
   "metadata": {},
   "source": [
    "### Solution"
   ]
  },
  {
   "cell_type": "markdown",
   "id": "896c1eeb",
   "metadata": {},
   "source": [
    "#### Method 1"
   ]
  },
  {
   "cell_type": "code",
   "execution_count": 13,
   "id": "af30361e",
   "metadata": {},
   "outputs": [],
   "source": [
    "bin=pd.qcut(ser, q=[0, .10, .20, .3, .4, .5, .6, .7, .8, .9, 1],labels=['1st','2nd','3rd','4th','5th','6th','7th','8th','9th','10th']).head()"
   ]
  },
  {
   "cell_type": "markdown",
   "id": "8fdbb564",
   "metadata": {},
   "source": [
    "#### Method 2"
   ]
  },
  {
   "cell_type": "code",
   "execution_count": 14,
   "id": "664edbba",
   "metadata": {},
   "outputs": [
    {
     "data": {
      "text/plain": [
       "0     6th\n",
       "1    10th\n",
       "2     5th\n",
       "3    10th\n",
       "4     1st\n",
       "dtype: category\n",
       "Categories (10, object): ['1st' < '2nd' < '3rd' < '4th' ... '7th' < '8th' < '9th' < '10th']"
      ]
     },
     "execution_count": 14,
     "metadata": {},
     "output_type": "execute_result"
    }
   ],
   "source": [
    "bin"
   ]
  }
 ],
 "metadata": {
  "kernelspec": {
   "display_name": "Python 3 (ipykernel)",
   "language": "python",
   "name": "python3"
  },
  "language_info": {
   "codemirror_mode": {
    "name": "ipython",
    "version": 3
   },
   "file_extension": ".py",
   "mimetype": "text/x-python",
   "name": "python",
   "nbconvert_exporter": "python",
   "pygments_lexer": "ipython3",
   "version": "3.10.7"
  }
 },
 "nbformat": 4,
 "nbformat_minor": 5
}
