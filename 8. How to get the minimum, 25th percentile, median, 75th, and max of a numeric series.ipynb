{
 "cells": [
  {
   "cell_type": "code",
   "execution_count": 1,
   "id": "0deb0ab8",
   "metadata": {},
   "outputs": [],
   "source": [
    "import pandas as pd\n",
    "import numpy as np"
   ]
  },
  {
   "cell_type": "markdown",
   "id": "e5087119",
   "metadata": {},
   "source": [
    "### Parameters Given"
   ]
  },
  {
   "cell_type": "code",
   "execution_count": 3,
   "id": "843b45a1",
   "metadata": {},
   "outputs": [
    {
     "data": {
      "text/plain": [
       "0      4.480144\n",
       "1      3.123769\n",
       "2      8.560557\n",
       "3      7.717894\n",
       "4      5.808009\n",
       "5     12.519811\n",
       "6     15.391032\n",
       "7      5.172659\n",
       "8     10.712386\n",
       "9      7.234089\n",
       "10    11.757788\n",
       "11     5.972555\n",
       "12    13.820057\n",
       "13     2.295282\n",
       "14     6.401111\n",
       "dtype: float64"
      ]
     },
     "execution_count": 3,
     "metadata": {},
     "output_type": "execute_result"
    }
   ],
   "source": [
    "ser = pd.Series(np.random.normal(10, 5, 15))\n",
    "ser"
   ]
  },
  {
   "cell_type": "markdown",
   "id": "a32b9e05",
   "metadata": {},
   "source": [
    "### Solution"
   ]
  },
  {
   "cell_type": "code",
   "execution_count": 4,
   "id": "1f3d66a2",
   "metadata": {},
   "outputs": [
    {
     "data": {
      "text/plain": [
       "15.391032394731496"
      ]
     },
     "execution_count": 4,
     "metadata": {},
     "output_type": "execute_result"
    }
   ],
   "source": [
    "ser.max()"
   ]
  },
  {
   "cell_type": "code",
   "execution_count": 5,
   "id": "40631c4f",
   "metadata": {},
   "outputs": [
    {
     "data": {
      "text/plain": [
       "2.295281651499838"
      ]
     },
     "execution_count": 5,
     "metadata": {},
     "output_type": "execute_result"
    }
   ],
   "source": [
    "ser.min()"
   ]
  },
  {
   "cell_type": "code",
   "execution_count": 6,
   "id": "12fb878f",
   "metadata": {},
   "outputs": [
    {
     "data": {
      "text/plain": [
       "7.234089025132747"
      ]
     },
     "execution_count": 6,
     "metadata": {},
     "output_type": "execute_result"
    }
   ],
   "source": [
    "ser.median()"
   ]
  },
  {
   "cell_type": "code",
   "execution_count": 7,
   "id": "ebdff1bc",
   "metadata": {},
   "outputs": [
    {
     "data": {
      "text/plain": [
       "array([ 5.49033446, 11.23508667])"
      ]
     },
     "execution_count": 7,
     "metadata": {},
     "output_type": "execute_result"
    }
   ],
   "source": [
    "np.percentile(ser,q=[25,75])"
   ]
  }
 ],
 "metadata": {
  "kernelspec": {
   "display_name": "Python 3 (ipykernel)",
   "language": "python",
   "name": "python3"
  },
  "language_info": {
   "codemirror_mode": {
    "name": "ipython",
    "version": 3
   },
   "file_extension": ".py",
   "mimetype": "text/x-python",
   "name": "python",
   "nbconvert_exporter": "python",
   "pygments_lexer": "ipython3",
   "version": "3.10.7"
  }
 },
 "nbformat": 4,
 "nbformat_minor": 5
}
