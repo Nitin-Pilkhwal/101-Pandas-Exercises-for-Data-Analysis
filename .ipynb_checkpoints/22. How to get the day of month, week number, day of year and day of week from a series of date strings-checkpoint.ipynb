{
 "cells": [
  {
   "cell_type": "code",
   "execution_count": 1,
   "id": "a92248cc",
   "metadata": {},
   "outputs": [],
   "source": [
    "import pandas as pd\n",
    "import numpy as np"
   ]
  },
  {
   "cell_type": "markdown",
   "id": "66be8ac2",
   "metadata": {},
   "source": [
    "### Parameters Given"
   ]
  },
  {
   "cell_type": "code",
   "execution_count": 2,
   "id": "0b91a2d3",
   "metadata": {},
   "outputs": [],
   "source": [
    "ser = pd.Series(['01 Jan 2010', '02-02-2011', '20120303', '2013/04/04', '2014-05-05', '2015-06-06T12:20'])\n"
   ]
  },
  {
   "cell_type": "markdown",
   "id": "14981878",
   "metadata": {},
   "source": [
    "### Solution"
   ]
  },
  {
   "cell_type": "code",
   "execution_count": 3,
   "id": "b82ca71d",
   "metadata": {},
   "outputs": [],
   "source": [
    "from dateutil.parser import parse\n",
    "ser = ser.map(lambda x:parse(x))"
   ]
  },
  {
   "cell_type": "code",
   "execution_count": 4,
   "id": "673979e1",
   "metadata": {},
   "outputs": [],
   "source": [
    "date = []\n",
    "w = []\n",
    "day = []\n",
    "weekday = []"
   ]
  },
  {
   "cell_type": "code",
   "execution_count": 5,
   "id": "41369686",
   "metadata": {},
   "outputs": [],
   "source": [
    "date = ser.dt.day.tolist()"
   ]
  },
  {
   "cell_type": "code",
   "execution_count": 6,
   "id": "c59c51e9",
   "metadata": {},
   "outputs": [],
   "source": [
    "%%capture --no-display\n",
    "w = ser.dt.weekofyear.tolist()"
   ]
  },
  {
   "cell_type": "code",
   "execution_count": 7,
   "id": "4712f76a",
   "metadata": {},
   "outputs": [],
   "source": [
    "day = ser.dt.dayofyear.tolist()"
   ]
  },
  {
   "cell_type": "code",
   "execution_count": 9,
   "id": "e313a4ea",
   "metadata": {},
   "outputs": [],
   "source": [
    "weekday = ser.dt.day_name().tolist()"
   ]
  },
  {
   "cell_type": "code",
   "execution_count": 10,
   "id": "8ec19273",
   "metadata": {},
   "outputs": [
    {
     "name": "stdout",
     "output_type": "stream",
     "text": [
      "[1, 2, 3, 4, 5, 6]\n",
      "[53, 5, 9, 14, 19, 23]\n",
      "[1, 33, 63, 94, 125, 157]\n",
      "['Friday', 'Wednesday', 'Saturday', 'Thursday', 'Monday', 'Saturday']\n"
     ]
    }
   ],
   "source": [
    "print(date)\n",
    "print(w)\n",
    "print(day)\n",
    "print(weekday)"
   ]
  }
 ],
 "metadata": {
  "kernelspec": {
   "display_name": "Python 3 (ipykernel)",
   "language": "python",
   "name": "python3"
  },
  "language_info": {
   "codemirror_mode": {
    "name": "ipython",
    "version": 3
   },
   "file_extension": ".py",
   "mimetype": "text/x-python",
   "name": "python",
   "nbconvert_exporter": "python",
   "pygments_lexer": "ipython3",
   "version": "3.10.7"
  }
 },
 "nbformat": 4,
 "nbformat_minor": 5
}
