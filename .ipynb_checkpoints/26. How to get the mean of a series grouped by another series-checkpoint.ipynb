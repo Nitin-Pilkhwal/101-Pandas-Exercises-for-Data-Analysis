{
 "cells": [
  {
   "cell_type": "markdown",
   "id": "bf30bf9e",
   "metadata": {},
   "source": [
    "## Import Libraries"
   ]
  },
  {
   "cell_type": "code",
   "execution_count": 2,
   "id": "2d60da90",
   "metadata": {},
   "outputs": [],
   "source": [
    "import pandas as pd\n",
    "import numpy as np"
   ]
  },
  {
   "cell_type": "markdown",
   "id": "542398dd",
   "metadata": {},
   "source": [
    "## Parameters Given"
   ]
  },
  {
   "cell_type": "code",
   "execution_count": 3,
   "id": "41af04ac",
   "metadata": {},
   "outputs": [],
   "source": [
    "fruit = pd.Series(np.random.choice(['apple', 'banana', 'carrot'], 10))\n",
    "weights = pd.Series(np.linspace(1, 10, 10))"
   ]
  },
  {
   "cell_type": "markdown",
   "id": "84f2ae1a",
   "metadata": {},
   "source": [
    "## Solution 1"
   ]
  },
  {
   "cell_type": "code",
   "execution_count": 4,
   "id": "13f27df5",
   "metadata": {},
   "outputs": [],
   "source": [
    "apple = weights[lambda x : (fruit[x]=='apple' for x in range(len(fruit))) ]"
   ]
  },
  {
   "cell_type": "code",
   "execution_count": 5,
   "id": "d9e7586d",
   "metadata": {},
   "outputs": [],
   "source": [
    "apple_mean = apple.values.sum()/apple.count()"
   ]
  },
  {
   "cell_type": "code",
   "execution_count": 6,
   "id": "784bec5e",
   "metadata": {},
   "outputs": [],
   "source": [
    "banana = weights[lambda x : (fruit[x]=='banana' for x in range(len(fruit))) ]"
   ]
  },
  {
   "cell_type": "code",
   "execution_count": 7,
   "id": "2b6c3847",
   "metadata": {},
   "outputs": [],
   "source": [
    "banana_mean = banana.values.sum()/banana.count()"
   ]
  },
  {
   "cell_type": "code",
   "execution_count": 8,
   "id": "17423e9d",
   "metadata": {},
   "outputs": [],
   "source": [
    "carrot = weights[lambda x : (fruit[x]=='carrot' for x in range(len(fruit))) ]"
   ]
  },
  {
   "cell_type": "code",
   "execution_count": 9,
   "id": "91510fab",
   "metadata": {},
   "outputs": [],
   "source": [
    "carrot_mean = carrot.values.sum()/carrot.count()"
   ]
  },
  {
   "cell_type": "code",
   "execution_count": 13,
   "id": "5d287e9b",
   "metadata": {},
   "outputs": [
    {
     "name": "stdout",
     "output_type": "stream",
     "text": [
      "apple 5.5 \n",
      "banana 7.333333333333333 \n",
      "Carrot 3.6666666666666665\n"
     ]
    }
   ],
   "source": [
    "print(\"apple\",apple_mean,\"\\nbanana\",banana_mean,\"\\nCarrot\",carrot_mean)"
   ]
  },
  {
   "cell_type": "markdown",
   "id": "b8a8ca7b",
   "metadata": {},
   "source": [
    "## Solution 2"
   ]
  },
  {
   "cell_type": "code",
   "execution_count": 11,
   "id": "09ab124d",
   "metadata": {},
   "outputs": [
    {
     "data": {
      "text/plain": [
       "apple     5.500000\n",
       "banana    7.333333\n",
       "carrot    3.666667\n",
       "dtype: float64"
      ]
     },
     "execution_count": 11,
     "metadata": {},
     "output_type": "execute_result"
    }
   ],
   "source": [
    "weights.groupby(fruit).mean()"
   ]
  }
 ],
 "metadata": {
  "kernelspec": {
   "display_name": "Python 3 (ipykernel)",
   "language": "python",
   "name": "python3"
  },
  "language_info": {
   "codemirror_mode": {
    "name": "ipython",
    "version": 3
   },
   "file_extension": ".py",
   "mimetype": "text/x-python",
   "name": "python",
   "nbconvert_exporter": "python",
   "pygments_lexer": "ipython3",
   "version": "3.10.7"
  }
 },
 "nbformat": 4,
 "nbformat_minor": 5
}
