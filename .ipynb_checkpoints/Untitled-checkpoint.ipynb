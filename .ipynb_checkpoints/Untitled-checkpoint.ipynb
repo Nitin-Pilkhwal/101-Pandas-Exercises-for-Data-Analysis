{
 "cells": [
  {
   "cell_type": "markdown",
   "id": "bf30bf9e",
   "metadata": {},
   "source": [
    "## Import Libraries"
   ]
  },
  {
   "cell_type": "code",
   "execution_count": 1,
   "id": "2d60da90",
   "metadata": {},
   "outputs": [],
   "source": [
    "import pandas as pd\n",
    "import numpy as np"
   ]
  },
  {
   "cell_type": "markdown",
   "id": "542398dd",
   "metadata": {},
   "source": [
    "## Parameters Given"
   ]
  },
  {
   "cell_type": "code",
   "execution_count": 2,
   "id": "41af04ac",
   "metadata": {},
   "outputs": [],
   "source": [
    "fruit = pd.Series(np.random.choice(['apple', 'banana', 'carrot'], 10))\n",
    "weights = pd.Series(np.linspace(1, 10, 10))"
   ]
  },
  {
   "cell_type": "markdown",
   "id": "84f2ae1a",
   "metadata": {},
   "source": [
    "## Solution"
   ]
  },
  {
   "cell_type": "code",
   "execution_count": 5,
   "id": "13f27df5",
   "metadata": {},
   "outputs": [],
   "source": [
    "apple = weights[lambda x : (fruit[x]=='apple' for x in range(len(fruit))) ]"
   ]
  },
  {
   "cell_type": "code",
   "execution_count": 7,
   "id": "d9e7586d",
   "metadata": {},
   "outputs": [],
   "source": [
    "apple_mean = apple.values.sum()/apple.count()"
   ]
  },
  {
   "cell_type": "code",
   "execution_count": 9,
   "id": "784bec5e",
   "metadata": {},
   "outputs": [],
   "source": [
    "banana = weights[lambda x : (fruit[x]=='banana' for x in range(len(fruit))) ]"
   ]
  },
  {
   "cell_type": "code",
   "execution_count": 10,
   "id": "2b6c3847",
   "metadata": {},
   "outputs": [],
   "source": [
    "banana_mean = banana.values.sum()/banana.count()"
   ]
  },
  {
   "cell_type": "code",
   "execution_count": 12,
   "id": "17423e9d",
   "metadata": {},
   "outputs": [],
   "source": [
    "carrot = weights[lambda x : (fruit[x]=='carrot' for x in range(len(fruit))) ]"
   ]
  },
  {
   "cell_type": "code",
   "execution_count": 14,
   "id": "91510fab",
   "metadata": {},
   "outputs": [],
   "source": [
    "carrot_mean = carrot.values.sum()/carrot.count()"
   ]
  },
  {
   "cell_type": "code",
   "execution_count": 16,
   "id": "5d287e9b",
   "metadata": {},
   "outputs": [
    {
     "name": "stdout",
     "output_type": "stream",
     "text": [
      "4.0 6.5 6.0\n"
     ]
    }
   ],
   "source": [
    "print(apple_mean,banana_mean,carrot_mean)"
   ]
  }
 ],
 "metadata": {
  "kernelspec": {
   "display_name": "Python 3 (ipykernel)",
   "language": "python",
   "name": "python3"
  },
  "language_info": {
   "codemirror_mode": {
    "name": "ipython",
    "version": 3
   },
   "file_extension": ".py",
   "mimetype": "text/x-python",
   "name": "python",
   "nbconvert_exporter": "python",
   "pygments_lexer": "ipython3",
   "version": "3.10.7"
  }
 },
 "nbformat": 4,
 "nbformat_minor": 5
}
