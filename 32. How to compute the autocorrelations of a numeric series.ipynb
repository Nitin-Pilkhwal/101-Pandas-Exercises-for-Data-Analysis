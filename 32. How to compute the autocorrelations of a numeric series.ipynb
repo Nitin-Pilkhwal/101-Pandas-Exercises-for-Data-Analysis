{
 "cells": [
  {
   "cell_type": "code",
   "execution_count": 1,
   "id": "e61466bd",
   "metadata": {},
   "outputs": [],
   "source": [
    "import pandas as pd\n",
    "import numpy as np"
   ]
  },
  {
   "cell_type": "markdown",
   "id": "55bba48d",
   "metadata": {},
   "source": [
    "## Parameters Given"
   ]
  },
  {
   "cell_type": "code",
   "execution_count": 2,
   "id": "c0f1bdd1",
   "metadata": {},
   "outputs": [],
   "source": [
    "ser = pd.Series(np.arange(20) + np.random.normal(1, 10, 20))"
   ]
  },
  {
   "cell_type": "code",
   "execution_count": 3,
   "id": "0d961b50",
   "metadata": {},
   "outputs": [
    {
     "data": {
      "text/plain": [
       "0     -2.284534\n",
       "1      1.843883\n",
       "2     11.459661\n",
       "3      1.265427\n",
       "4      9.579685\n",
       "5     10.065688\n",
       "6     11.823574\n",
       "7    -10.500207\n",
       "8     13.037968\n",
       "9     13.120834\n",
       "10    17.562638\n",
       "11    39.019253\n",
       "12    33.586721\n",
       "13     6.876355\n",
       "14    24.437656\n",
       "15    20.456451\n",
       "16    27.775514\n",
       "17    21.174443\n",
       "18     8.980827\n",
       "19    35.100582\n",
       "dtype: float64"
      ]
     },
     "execution_count": 3,
     "metadata": {},
     "output_type": "execute_result"
    }
   ],
   "source": [
    "ser"
   ]
  },
  {
   "cell_type": "markdown",
   "id": "27f58308",
   "metadata": {},
   "source": [
    "## Solution"
   ]
  },
  {
   "cell_type": "code",
   "execution_count": 12,
   "id": "7dc454d1",
   "metadata": {},
   "outputs": [],
   "source": [
    "autoCorr = [ser.autocorr(i).round(3) for i in range(1,11)]"
   ]
  },
  {
   "cell_type": "code",
   "execution_count": 13,
   "id": "f43ce93a",
   "metadata": {},
   "outputs": [
    {
     "data": {
      "text/plain": [
       "[0.327, 0.258, 0.345, 0.165, 0.217, 0.234, 0.187, 0.251, 0.032, 0.199]"
      ]
     },
     "execution_count": 13,
     "metadata": {},
     "output_type": "execute_result"
    }
   ],
   "source": [
    "autoCorr"
   ]
  },
  {
   "cell_type": "code",
   "execution_count": 16,
   "id": "cf3f1ec7",
   "metadata": {},
   "outputs": [
    {
     "name": "stdout",
     "output_type": "stream",
     "text": [
      "Maximum autocorrelation :  2\n"
     ]
    }
   ],
   "source": [
    "print(\"Maximum autocorrelation : \",np.argmax(np.abs(autoCorr[1:]))+1)"
   ]
  }
 ],
 "metadata": {
  "kernelspec": {
   "display_name": "Python 3 (ipykernel)",
   "language": "python",
   "name": "python3"
  },
  "language_info": {
   "codemirror_mode": {
    "name": "ipython",
    "version": 3
   },
   "file_extension": ".py",
   "mimetype": "text/x-python",
   "name": "python",
   "nbconvert_exporter": "python",
   "pygments_lexer": "ipython3",
   "version": "3.10.7"
  }
 },
 "nbformat": 4,
 "nbformat_minor": 5
}
